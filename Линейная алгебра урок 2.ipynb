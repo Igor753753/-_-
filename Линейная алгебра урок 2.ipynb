{
 "cells": [
  {
   "cell_type": "code",
   "execution_count": 1,
   "metadata": {},
   "outputs": [],
   "source": [
    "import numpy as np"
   ]
  },
  {
   "cell_type": "markdown",
   "metadata": {},
   "source": [
    "# 1. Установить, какие произведения матриц AB и BA определены, и найти размерности полученных матриц:\n",
    "а) A — матрица 4×2 , B — матрица 4×2 ;\n",
    "\n",
    "б) A — матрица 2×5 , B — матрица 5×3 ;\n",
    "\n",
    "в) A — матрица 8×3 , B — матрица 3×8 ;\n",
    "\n",
    "г) A — квадратная матрица 4×4 , B — квадратная матрица 4×4 ."
   ]
  },
  {
   "cell_type": "markdown",
   "metadata": {},
   "source": [
    "# \n",
    "\n",
    "\n",
    "а) нет\n",
    "б) АВ 2х3\n",
    "в) АВ 8х8 и ВА 3х3\n",
    "г) АВ 4х4 и ВА 4х4"
   ]
  },
  {
   "cell_type": "markdown",
   "metadata": {},
   "source": [
    "# 2. Найдите сумму и произведение матриц  "
   ]
  },
  {
   "cell_type": "code",
   "execution_count": 2,
   "metadata": {},
   "outputs": [
    {
     "name": "stdout",
     "output_type": "stream",
     "text": [
      "A+B:\n",
      "[[ 5 -3]\n",
      " [ 3  5]]\n",
      "\n",
      "A*B:\n",
      "[[  4 -11]\n",
      " [ 12  -3]]\n",
      "\n",
      "B*A:\n",
      "[[ 1 -8]\n",
      " [15  0]]\n"
     ]
    }
   ],
   "source": [
    "A = np.array([[1, -2], [3, 0]])\n",
    "B = np.array([[4, -1], [0, 5]])\n",
    "print(f'A+B:\\n{A + B}\\n')\n",
    "print(f'A*B:\\n{np.dot(A, B)}\\n')\n",
    "print(f'B*A:\\n{np.dot(B, A)}')"
   ]
  },
  {
   "cell_type": "markdown",
   "metadata": {},
   "source": [
    "# 3. Вычислить линейную комбинацию 3A - 2B + 4C"
   ]
  },
  {
   "cell_type": "code",
   "execution_count": 4,
   "metadata": {},
   "outputs": [
    {
     "name": "stdout",
     "output_type": "stream",
     "text": [
      "3A-2B+4C:\n",
      "[[ 11  -5]\n",
      " [  9 -12]]\n",
      "\n"
     ]
    }
   ],
   "source": [
    "A = np.array([[1, 7], [3, -6]])\n",
    "B = np.array([[0, 5], [2, -1]])\n",
    "C = np.array([[2, -4], [1, 1]])\n",
    "print(f'3A-2B+4C:\\n{3*A - 2*B + 4*C}\\n')"
   ]
  },
  {
   "cell_type": "markdown",
   "metadata": {},
   "source": [
    "# Дана матрица  . Вычислите  𝐴𝐴𝑇  и  𝐴𝑇𝐴 ."
   ]
  },
  {
   "cell_type": "code",
   "execution_count": 5,
   "metadata": {},
   "outputs": [
    {
     "name": "stdout",
     "output_type": "stream",
     "text": [
      "A:\n",
      "[[ 4  1]\n",
      " [ 5 -2]\n",
      " [ 2  3]]\n",
      "\n",
      "A.T:\n",
      "[[ 4  5  2]\n",
      " [ 1 -2  3]]\n",
      "\n",
      "A*A.T:\n",
      "[[17 18 11]\n",
      " [18 29  4]\n",
      " [11  4 13]]\n",
      "\n",
      "A.T*A:\n",
      "[[45  0]\n",
      " [ 0 14]]\n"
     ]
    }
   ],
   "source": [
    "A = np.array([[4, 1], [5, -2], [2, 3]])\n",
    "print(f'A:\\n{A}\\n')\n",
    "print(f'A.T:\\n{A.T}\\n')\n",
    "print(f'A*A.T:\\n{np.dot(A, A.T)}\\n')\n",
    "print(f'A.T*A:\\n{np.dot(A.T, A)}')"
   ]
  },
  {
   "cell_type": "markdown",
   "metadata": {},
   "source": [
    "# 5*. Написать на Python функцию для перемножения двух произвольных матриц, не используя NumPy."
   ]
  },
  {
   "cell_type": "code",
   "execution_count": 9,
   "metadata": {},
   "outputs": [],
   "source": [
    "a = [[4, 5, 2],\n",
    "     [1, -2, 3]]\n",
    "     \n",
    "b = [[4, 1],\n",
    "     [5,-2],\n",
    "     [ 2, 3]]"
   ]
  },
  {
   "cell_type": "code",
   "execution_count": 10,
   "metadata": {},
   "outputs": [
    {
     "name": "stdout",
     "output_type": "stream",
     "text": [
      "[[45, 0], [0, 14]]\n"
     ]
    }
   ],
   "source": [
    "m = len(a)                                            # a: m × n\n",
    "n = len(b)                                            # b: n × k\n",
    "k = len(b[0])\n",
    "\n",
    "c = [[None for __ in range(k)] for __ in range(m)]    # c: m × k\n",
    "\n",
    "for i in range(m):\n",
    "    for j in range(k):       \n",
    "        c[i][j] = sum(a[i][kk] * b[kk][j] for kk in range(n))\n",
    "  \n",
    "print(c)"
   ]
  },
  {
   "cell_type": "markdown",
   "metadata": {},
   "source": [
    "# взял матрицы из предыдущего задания"
   ]
  },
  {
   "cell_type": "markdown",
   "metadata": {},
   "source": [
    "# 2 часть   Вычислить определитель:"
   ]
  },
  {
   "cell_type": "code",
   "execution_count": 11,
   "metadata": {},
   "outputs": [
    {
     "name": "stdout",
     "output_type": "stream",
     "text": [
      "A:\n",
      "[[1 2 3]\n",
      " [4 5 6]\n",
      " [7 8 9]]\n",
      "\n",
      "det:\n",
      "0\n"
     ]
    }
   ],
   "source": [
    "A = np.array([[1, 2, 3], [4, 5, 6], [7, 8, 9]])\n",
    "print(f'A:\\n{A}\\n')\n",
    "print(f'det:\\n{round(np.linalg.det(A))}')"
   ]
  },
  {
   "cell_type": "markdown",
   "metadata": {},
   "source": [
    "# Определитель матрицы A равен 4 . "
   ]
  },
  {
   "cell_type": "markdown",
   "metadata": {},
   "source": [
    "# Согласно свойствам определителя:\n",
    "а) \n",
    "Для двух квадратных матриц одинакового размера\n",
    "det(AB)=detA⋅detB\n",
    "б)  Определитель транспонированной матрицы равен определителю исходной\n",
    "в)  Умножение строки или столбца матрицы на число приведет к умножению определителя матрицы на то же число. Соответственно при умножении всей матрицы на число определитель будет зависеть от ее порядка (числа строк)"
   ]
  },
  {
   "cell_type": "markdown",
   "metadata": {},
   "source": [
    "# Доказать, что матрица вырожденная"
   ]
  },
  {
   "cell_type": "code",
   "execution_count": 12,
   "metadata": {},
   "outputs": [
    {
     "name": "stdout",
     "output_type": "stream",
     "text": [
      "A:\n",
      "[[ -2   7  -3]\n",
      " [  4 -14   6]\n",
      " [ -3   7  13]]\n",
      "\n",
      "det:\n",
      "0\n"
     ]
    }
   ],
   "source": [
    "A = np.array([[-2, 7, -3], [4, -14, 6], [-3, 7, 13]])\n",
    "print(f'A:\\n{A}\\n')\n",
    "print(f'det:\\n{round(np.linalg.det(A))}')"
   ]
  },
  {
   "cell_type": "markdown",
   "metadata": {},
   "source": [
    "# Вырожденная матрица - квадратная матрица, определитель которой равен 0."
   ]
  },
  {
   "cell_type": "markdown",
   "metadata": {},
   "source": [
    "# Найти ранг матрицы"
   ]
  },
  {
   "cell_type": "code",
   "execution_count": 14,
   "metadata": {},
   "outputs": [
    {
     "name": "stdout",
     "output_type": "stream",
     "text": [
      "A:\n",
      "[[1 2 3]\n",
      " [1 1 1]\n",
      " [2 3 4]]\n",
      "\n",
      "rank:\n",
      "2\n"
     ]
    }
   ],
   "source": [
    "A = np.array([[1, 2, 3], [1, 1, 1], [2, 3, 4]])\n",
    "print(f'A:\\n{A}\\n')\n",
    "print(f'rank:\\n{round(np.linalg.matrix_rank(A))}')"
   ]
  },
  {
   "cell_type": "code",
   "execution_count": 15,
   "metadata": {},
   "outputs": [
    {
     "name": "stdout",
     "output_type": "stream",
     "text": [
      "A:\n",
      "[[0 0 2 1]\n",
      " [0 0 2 2]\n",
      " [0 0 4 3]\n",
      " [2 3 5 6]]\n",
      "\n",
      "rank:\n",
      "3\n"
     ]
    }
   ],
   "source": [
    "A = np.array([[0, 0, 2, 1], [0, 0, 2, 2], [0, 0, 4, 3], [2, 3, 5, 6]])\n",
    "print(f'A:\\n{A}\\n')\n",
    "print(f'rank:\\n{round(np.linalg.matrix_rank(A))}')"
   ]
  },
  {
   "cell_type": "code",
   "execution_count": null,
   "metadata": {},
   "outputs": [],
   "source": []
  }
 ],
 "metadata": {
  "kernelspec": {
   "display_name": "Python 3",
   "language": "python",
   "name": "python3"
  },
  "language_info": {
   "codemirror_mode": {
    "name": "ipython",
    "version": 3
   },
   "file_extension": ".py",
   "mimetype": "text/x-python",
   "name": "python",
   "nbconvert_exporter": "python",
   "pygments_lexer": "ipython3",
   "version": "3.8.5"
  }
 },
 "nbformat": 4,
 "nbformat_minor": 4
}
