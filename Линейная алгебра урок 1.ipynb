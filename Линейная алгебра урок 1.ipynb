{
 "cells": [
  {
   "cell_type": "markdown",
   "metadata": {},
   "source": [
    "# 1. Исследуйте на линейную зависимость:\n",
    "\n",
    "f1(x)=e^x, f2(x)=1, f3(x)=x+1, f4(x)=x−e^x"
   ]
  },
  {
   "cell_type": "markdown",
   "metadata": {},
   "source": [
    "# f4(x) = f3(x) - f1(x) - f2(x)\n",
    "x−e^x=x+1-e^x-1\n",
    "x−e^x=x−e^x\n",
    "Вектор f4(x) является линейной комбинацией других. Значит f1(x)=e^x, f2(x)=1, f3(x)=x+1, f4(x)=x−e^x линейно зависимы,так как для того, чтобы некоторое множество элементов линейного пространства было линейно зависимым, необходимо и достаточно, чтобы один из этих элементов являлся линейной комбинацией остальных."
   ]
  },
  {
   "cell_type": "markdown",
   "metadata": {},
   "source": [
    "# 2. Исследовать на линейную зависимость: f1(x)=2, f2(x)=x, f3(x)=x^2, f4(x)=(x+1)^2."
   ]
  },
  {
   "cell_type": "markdown",
   "metadata": {},
   "source": [
    "# (x+1)^2=x^2+2x+2\n",
    "f4(x) = f3(x) + 2f2(x) + 0.5f1(x)\n",
    "Вектор f4(x) является линейной комбинацией других. Значит f1, f2, f3, f4 линейно зависимы,так как для того, чтобы некоторое множество элементов линейного пространства было линейно зависимым, необходимо и достаточно, чтобы один из этих элементов являлся линейной комбинацией остальных."
   ]
  },
  {
   "cell_type": "markdown",
   "metadata": {},
   "source": [
    "# 3. Найти координаты вектора x=(2,3,5) ∈ R3 в базисе b1=(0,0,10) , b2=(2,0,0) , b3=(0,1,0) ."
   ]
  },
  {
   "cell_type": "markdown",
   "metadata": {},
   "source": [
    "# x = 0.5 b1 + b2 + 3 b3\n",
    "x = (0.5, 1, 3)"
   ]
  },
  {
   "cell_type": "markdown",
   "metadata": {},
   "source": [
    "# 4. Найти координаты вектора 3x^2 − 2x + 2 ∈ R3[x] :\n",
    "а) в базисе 1 , x , x2\n",
    "\n",
    "б) в базисе x2 , x−1 , 1"
   ]
  },
  {
   "cell_type": "markdown",
   "metadata": {},
   "source": [
    "# а) x = (2, -2, 3)\n"
   ]
  },
  {
   "cell_type": "markdown",
   "metadata": {},
   "source": [
    "# б) 3x^2 - 2x + 2 = 3x^2 - 2(x - 1) + 0*1"
   ]
  },
  {
   "cell_type": "markdown",
   "metadata": {},
   "source": [
    "# x = (3, -2, 0)"
   ]
  },
  {
   "cell_type": "markdown",
   "metadata": {},
   "source": [
    "# 5. Установить, является ли линейным подпространством:\n",
    "а) совокупность всех векторов трехмерного пространства, у которых по крайней мере одна из первых двух координат равна нулю;\n",
    "\n",
    "б) все векторы, являющиеся линейными комбинациями данных векторов {u1,u2,...,un} .\n",
    "\n"
   ]
  },
  {
   "cell_type": "markdown",
   "metadata": {},
   "source": [
    "# Подмножество  𝐿  линейного пространства  𝑉  считается его подпространством только тогда, когда для любых элементов  𝑢,𝑣∈𝐿  и любого  𝛼∈ℝ  выполняются условия:\n",
    "\n",
    "1) 𝑢+𝑣∈𝐿;\n",
    " \n",
    "2) 𝛼⋅𝑢∈𝐿."
   ]
  },
  {
   "cell_type": "markdown",
   "metadata": {},
   "source": [
    "# а)  2 вектора. (a, 0, b) и (0, c, d) их сумма равна (a, c, b+d). Если, а и с не равны нулю, то получившийся вектор не лежит в данном множестве (где по крайней мере одна их первых двух координат равна нулю).  Совокупность всех векторов трехмерного пространства, у которых  одна из первых двух координат равна нулю, не является линейным подпространством"
   ]
  },
  {
   "cell_type": "markdown",
   "metadata": {},
   "source": [
    "# б) результаты операций u+v и α⋅u  будут являться линейными комбинациями заданных векторов {u1,u2,...,un}. Поэтому все векторы, являющиеся линейными комбинациями данных векторов {u1,u2,...,un}, будут линейным подпространством"
   ]
  },
  {
   "cell_type": "markdown",
   "metadata": {},
   "source": [
    "# Практическое задание 2 часть\n",
    "1. Найдите скалярное произведение векторов  𝑥,𝑦∈ℝ :\n",
    "а)  𝑥=(0,−3,6), 𝑦=(−4,7,9); \n",
    "б)  𝑥=(7,−4,0,1), 𝑦=(−3,1,11,2)."
   ]
  },
  {
   "cell_type": "code",
   "execution_count": 3,
   "metadata": {},
   "outputs": [],
   "source": [
    "import numpy as np"
   ]
  },
  {
   "cell_type": "code",
   "execution_count": 4,
   "metadata": {},
   "outputs": [
    {
     "data": {
      "text/plain": [
       "33"
      ]
     },
     "execution_count": 4,
     "metadata": {},
     "output_type": "execute_result"
    }
   ],
   "source": [
    "x = np.array([0, -3, 6])\n",
    "y = np.array([-4, 7, 9])\n",
    "np.dot(x, y)"
   ]
  },
  {
   "cell_type": "code",
   "execution_count": 5,
   "metadata": {},
   "outputs": [
    {
     "data": {
      "text/plain": [
       "-23"
      ]
     },
     "execution_count": 5,
     "metadata": {},
     "output_type": "execute_result"
    }
   ],
   "source": [
    "x = np.array([7, -4, 0, 1])\n",
    "y = np.array([-3, 1, 11, 2])\n",
    "np.dot(x, y)"
   ]
  },
  {
   "cell_type": "markdown",
   "metadata": {},
   "source": [
    "# 2. Найдите нормы векторов  (4,2,4)  и  (12,3,4)  и угол между ними."
   ]
  },
  {
   "cell_type": "code",
   "execution_count": 9,
   "metadata": {},
   "outputs": [],
   "source": [
    "from numpy.linalg import norm"
   ]
  },
  {
   "cell_type": "code",
   "execution_count": 10,
   "metadata": {},
   "outputs": [],
   "source": [
    "a = np.array([4, 2, 4])\n",
    "b = np.array([12, 3, 4])"
   ]
  },
  {
   "cell_type": "code",
   "execution_count": 14,
   "metadata": {},
   "outputs": [
    {
     "name": "stdout",
     "output_type": "stream",
     "text": [
      "l1 Манхэттенская норма вектора a:\n",
      "10.0 l2 Евклидова норма вектора а:\n",
      "6.0\n"
     ]
    }
   ],
   "source": [
    "print(f'l1 Манхэттенская норма вектора a:\\n{norm(a, ord=1)}',f'l2 Евклидова норма вектора а:\\n{norm(a, ord=2)}')"
   ]
  },
  {
   "cell_type": "code",
   "execution_count": 15,
   "metadata": {},
   "outputs": [
    {
     "name": "stdout",
     "output_type": "stream",
     "text": [
      "l1 Манхэттенская норма вектора a:\n",
      "19.0 l2 Евклидова норма вектора а:\n",
      "13.0\n"
     ]
    }
   ],
   "source": [
    "print(f'l1 Манхэттенская норма вектора a:\\n{norm(b, ord=1)}',f'l2 Евклидова норма вектора а:\\n{norm(b, ord=2)}')"
   ]
  },
  {
   "cell_type": "markdown",
   "metadata": {},
   "source": [
    "# В любом вещественном евклидовом пространстве можно ввести понятие угла между двумя произвольными элементами  𝑥  и  𝑦 . Углом  𝜑∈[0,𝜋]  между этими элементами назовём угол, косинус которого определяется соотношением:\n",
    "\n",
    "𝑐𝑜𝑠𝜑=(𝑥,𝑦)‖𝑥‖⋅‖𝑦‖."
   ]
  },
  {
   "cell_type": "code",
   "execution_count": 21,
   "metadata": {},
   "outputs": [
    {
     "data": {
      "text/plain": [
       "0.8974358974358975"
      ]
     },
     "execution_count": 21,
     "metadata": {},
     "output_type": "execute_result"
    }
   ],
   "source": [
    "cos_phi = np.dot(a, b) / (norm(a) * norm(b))\n",
    "cos_phi"
   ]
  },
  {
   "cell_type": "code",
   "execution_count": 22,
   "metadata": {},
   "outputs": [
    {
     "data": {
      "text/plain": [
       "0.46"
      ]
     },
     "execution_count": 22,
     "metadata": {},
     "output_type": "execute_result"
    }
   ],
   "source": [
    "\n",
    "round(np.arccos(cos_phi), 2)"
   ]
  },
  {
   "cell_type": "markdown",
   "metadata": {},
   "source": [
    "# Будет ли линейное пространство евклидовым, если за скалярное произведение принять:\n",
    "а) произведение длин векторов;\n",
    "б) утроенное обычное скалярное произведение векторов?"
   ]
  },
  {
   "cell_type": "markdown",
   "metadata": {},
   "source": [
    "# Линейное пространство над полем вещественных чисел называется евклидовым пространством, если на нём введено правило, согласно которому каждой упорядоченной паре векторов  𝑥  и  𝑦  поставлено в соответствие вещественное число, называемое скалярным произведением и обозначаемое символом  (𝑥,𝑦) .\n",
    "\n",
    "Указанное правило должно подчиняться четырём аксиомам:\n",
    "\n",
    "1)  (𝑥,𝑦)=(𝑦,𝑥). \n",
    "2)  (𝜆𝑥,𝑦)=𝜆(𝑥,𝑦). \n",
    "3)  (𝑥1+𝑥2,𝑦)=(𝑥1,𝑦)+(𝑥2,𝑦). \n",
    "4)  (𝑥,𝑥)≥0 , причём  (𝑥,𝑥)=0⇔𝑥=0."
   ]
  },
  {
   "cell_type": "markdown",
   "metadata": {},
   "source": [
    "# (x1+x2,y)=(x1,y)+(x2,y) будет выполняться только в случае если x1 и x2 коллинеарны. В противном случае норма от x1+x2 будет меньше, чем нормы от этих векторов по отдельности.Значить не будет"
   ]
  },
  {
   "cell_type": "markdown",
   "metadata": {},
   "source": [
    "# б) Да. 1) (𝑥,𝑦)=(𝑦,𝑥). 2) (𝜆𝑥,𝑦)=𝜆(𝑥,𝑦). 3) (𝑥1+𝑥2,𝑦)=(𝑥1,𝑦)+(𝑥2,𝑦). 4) (𝑥,𝑥)≥0 , причём (𝑥,𝑥)=0⇔𝑥=0."
   ]
  },
  {
   "cell_type": "markdown",
   "metadata": {},
   "source": [
    "# Какие из нижеперечисленных векторов образуют ортонормированный базис в линейном пространстве R3 :\n",
    "а) (1,0,0),(0,0,1);\n",
    "б) (1/√2,−1/√2,0),(1/√2,1/√2,0),(0,0,1);\n",
    "в) (1/2,−1/2,0),(0,1/2,1/2),(0,0,1);\n",
    "г) (1,0,0),(0,1,0),(0,0,1)?"
   ]
  },
  {
   "cell_type": "markdown",
   "metadata": {},
   "source": [
    "#  ортонормированный базис является ортогональным и состоит из векторов единичной длины."
   ]
  },
  {
   "cell_type": "code",
   "execution_count": 23,
   "metadata": {},
   "outputs": [
    {
     "name": "stdout",
     "output_type": "stream",
     "text": [
      "0 1.0 1.0\n"
     ]
    }
   ],
   "source": [
    "x = np.array([1, 0, 0])\n",
    "y = np.array([0, 0, 1])\n",
    "print(np.dot(x, y), norm(x), norm(y))"
   ]
  },
  {
   "cell_type": "markdown",
   "metadata": {},
   "source": [
    "# через 2 вектора невозможно выразить любой вектор трехмерного пространства"
   ]
  },
  {
   "cell_type": "code",
   "execution_count": 24,
   "metadata": {},
   "outputs": [
    {
     "name": "stdout",
     "output_type": "stream",
     "text": [
      "0.0 0.0 0.0\n",
      "0.9999999999999999 0.9999999999999999 1.0\n"
     ]
    }
   ],
   "source": [
    "x = np.array([1 / 2**0.5, -1 / 2**0.5, 0])\n",
    "y = np.array([1 / 2**0.5, 1 / 2**0.5, 0])\n",
    "z = np.array([0, 0, 1])\n",
    "print(np.dot(x, y), np.dot(x, z), np.dot(y, z))\n",
    "print(norm(x), norm(y), norm(z))"
   ]
  },
  {
   "cell_type": "markdown",
   "metadata": {},
   "source": [
    "# состоит из векторов единичной длины.¶"
   ]
  },
  {
   "cell_type": "code",
   "execution_count": 25,
   "metadata": {},
   "outputs": [
    {
     "name": "stdout",
     "output_type": "stream",
     "text": [
      "-0.25 0.0 0.5\n",
      "0.7071067811865476 0.7071067811865476 1.0\n"
     ]
    }
   ],
   "source": [
    "x = np.array([0.5, -0.5, 0])\n",
    "y = np.array([0, 0.5, 0.5])\n",
    "z = np.array([0, 0, 1])\n",
    "print(np.dot(x, y), np.dot(x, z), np.dot(y, z))\n",
    "print(norm(x), norm(y), norm(z))"
   ]
  },
  {
   "cell_type": "markdown",
   "metadata": {},
   "source": [
    "# не состоит из векторов единичной длины.¶"
   ]
  },
  {
   "cell_type": "code",
   "execution_count": 26,
   "metadata": {},
   "outputs": [
    {
     "name": "stdout",
     "output_type": "stream",
     "text": [
      "0 0 0\n",
      "1.0 1.0 1.0\n"
     ]
    }
   ],
   "source": [
    "x = np.array([1, 0, 0])\n",
    "y = np.array([0, 1, 0])\n",
    "z = np.array([0, 0, 1])\n",
    "print(np.dot(x, y), np.dot(x, z), np.dot(y, z))\n",
    "print(norm(x), norm(y), norm(z))"
   ]
  },
  {
   "cell_type": "markdown",
   "metadata": {},
   "source": [
    "# состоит из векторов единичной длины.¶"
   ]
  },
  {
   "cell_type": "code",
   "execution_count": null,
   "metadata": {},
   "outputs": [],
   "source": []
  }
 ],
 "metadata": {
  "kernelspec": {
   "display_name": "Python 3",
   "language": "python",
   "name": "python3"
  },
  "language_info": {
   "codemirror_mode": {
    "name": "ipython",
    "version": 3
   },
   "file_extension": ".py",
   "mimetype": "text/x-python",
   "name": "python",
   "nbconvert_exporter": "python",
   "pygments_lexer": "ipython3",
   "version": "3.8.5"
  }
 },
 "nbformat": 4,
 "nbformat_minor": 4
}
